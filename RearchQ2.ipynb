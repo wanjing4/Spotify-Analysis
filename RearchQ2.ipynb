{
 "cells": [
  {
   "metadata": {},
   "cell_type": "markdown",
   "source": [
    "## Research Question 2\n",
    "#### We think that key within 5 sharps/flats is more popular\n",
    "**For Research Question 2, we first load the dataset**"
   ],
   "id": "f3a94f4efe3722ec"
  },
  {
   "metadata": {
    "ExecuteTime": {
     "end_time": "2025-03-06T05:35:30.439958Z",
     "start_time": "2025-03-06T05:35:26.899138Z"
    }
   },
   "cell_type": "code",
   "source": [
    "import pandas as pd\n",
    "import seaborn as sns\n",
    "import matplotlib.pyplot as plt\n",
    "\n",
    "\n",
    "# Load the CSV file\n",
    "df = pd.read_csv(\"spotify_data.csv\", index_col=0)\n",
    "print(\", \".join(df.columns))\n",
    "print(df.head())\n"
   ],
   "id": "72c2d884dde45360",
   "outputs": [
    {
     "name": "stdout",
     "output_type": "stream",
     "text": [
      "artist_name, track_name, track_id, popularity, year, genre, danceability, energy, key, loudness, mode, speechiness, acousticness, instrumentalness, liveness, valence, tempo, duration_ms, time_signature\n",
      "     artist_name        track_name                track_id  popularity  year  \\\n",
      "0     Jason Mraz   I Won't Give Up  53QF56cjZA9RTuuMZDrSA6          68  2012   \n",
      "1     Jason Mraz  93 Million Miles  1s8tP3jP4GZcyHDsjvw218          50  2012   \n",
      "2  Joshua Hyslop  Do Not Let Me Go  7BRCa8MPiyuvr2VU3O9W0F          57  2012   \n",
      "3   Boyce Avenue          Fast Car  63wsZUhUZLlh1OsyrZq7sz          58  2012   \n",
      "4   Andrew Belle  Sky's Still Blue  6nXIYClvJAfi6ujLiKqEq8          54  2012   \n",
      "\n",
      "      genre  danceability  energy  key  loudness  mode  speechiness  \\\n",
      "0  acoustic         0.483   0.303    4   -10.058     1       0.0429   \n",
      "1  acoustic         0.572   0.454    3   -10.286     1       0.0258   \n",
      "2  acoustic         0.409   0.234    3   -13.711     1       0.0323   \n",
      "3  acoustic         0.392   0.251   10    -9.845     1       0.0363   \n",
      "4  acoustic         0.430   0.791    6    -5.419     0       0.0302   \n",
      "\n",
      "   acousticness  instrumentalness  liveness  valence    tempo  duration_ms  \\\n",
      "0        0.6940          0.000000    0.1150    0.139  133.406       240166   \n",
      "1        0.4770          0.000014    0.0974    0.515  140.182       216387   \n",
      "2        0.3380          0.000050    0.0895    0.145  139.832       158960   \n",
      "3        0.8070          0.000000    0.0797    0.508  204.961       304293   \n",
      "4        0.0726          0.019300    0.1100    0.217  171.864       244320   \n",
      "\n",
      "   time_signature  \n",
      "0               3  \n",
      "1               4  \n",
      "2               4  \n",
      "3               4  \n",
      "4               4  \n"
     ]
    }
   ],
   "execution_count": 16
  },
  {
   "metadata": {},
   "cell_type": "markdown",
   "source": "**Since the key is encoded with a range of 0-11, we need find their original key**",
   "id": "ec452a57d114b1da"
  },
  {
   "metadata": {
    "ExecuteTime": {
     "end_time": "2025-03-06T05:11:38.278150Z",
     "start_time": "2025-03-06T05:11:38.233572Z"
    }
   },
   "cell_type": "code",
   "source": [
    "df_subset = df[[\"artist_name\", \"track_name\", \"key\"]]\n",
    "print(df_subset.head(10))  # Display the first 10 rows\n"
   ],
   "id": "6bbe57f14836aca4",
   "outputs": [
    {
     "name": "stdout",
     "output_type": "stream",
     "text": [
      "             artist_name                      track_name  key\n",
      "0             Jason Mraz                 I Won't Give Up    4\n",
      "1             Jason Mraz                93 Million Miles    3\n",
      "2          Joshua Hyslop                Do Not Let Me Go    3\n",
      "3           Boyce Avenue                        Fast Car   10\n",
      "4           Andrew Belle                Sky's Still Blue    6\n",
      "5          Chris Smither                   What They Say    2\n",
      "6             Matt Wertz  Walking in a Winter Wonderland    9\n",
      "7  Green River Ordinance                   Dancing Shoes    7\n",
      "8             Jason Mraz            Living in the Moment    7\n",
      "9           Boyce Avenue                          Heaven    8\n"
     ]
    }
   ],
   "execution_count": 10
  },
  {
   "metadata": {},
   "cell_type": "markdown",
   "source": "**Based on domain knowledge, we know that key number with 6 or more sharps is 6.**",
   "id": "5da494f45c7d32b6"
  },
  {
   "metadata": {
    "ExecuteTime": {
     "end_time": "2025-03-06T05:25:15.179985Z",
     "start_time": "2025-03-06T05:25:15.125137Z"
    }
   },
   "cell_type": "code",
   "source": [
    "count_key_6 = df[df[\"key\"] == 6].shape[0]\n",
    "print(f\"Number of songs with key = 6: {count_key_6}\")\n"
   ],
   "id": "d7b40e18b23bf619",
   "outputs": [
    {
     "name": "stdout",
     "output_type": "stream",
     "text": [
      "Number of songs with key = 6: 76120\n"
     ]
    }
   ],
   "execution_count": 11
  },
  {
   "metadata": {
    "ExecuteTime": {
     "end_time": "2025-03-06T05:41:42.371042Z",
     "start_time": "2025-03-06T05:41:42.283126Z"
    }
   },
   "cell_type": "code",
   "source": [
    "\n",
    "\n"
   ],
   "id": "3ae1cfe79c4c6254",
   "outputs": [
    {
     "name": "stdout",
     "output_type": "stream",
     "text": [
      "key\n",
      "7     139635\n",
      "0     130081\n",
      "2     123690\n",
      "9     119293\n",
      "1     112806\n",
      "5      94032\n",
      "4      91170\n",
      "11     90955\n",
      "6      76120\n",
      "10     76038\n",
      "8      70206\n",
      "3      35738\n",
      "Name: count, dtype: int64\n",
      "✅ Every key has at least 30 songs.\n"
     ]
    }
   ],
   "execution_count": 18
  },
  {
   "metadata": {
    "ExecuteTime": {
     "end_time": "2025-03-06T05:37:27.456500Z",
     "start_time": "2025-03-06T05:37:26.128191Z"
    }
   },
   "cell_type": "code",
   "source": [
    "import pandas as pd\n",
    "import scipy.stats as stats\n",
    "\n",
    "# Load your dataset (assuming it's already in df)\n",
    "# Ensure key is treated as a categorical variable\n",
    "df[\"key\"] = df[\"key\"].astype(str)  # Convert key to string for categorical treatment\n",
    "\n",
    "# Perform One-Way ANOVA\n",
    "anova_result = stats.f_oneway(*[df[df[\"key\"] == k][\"popularity\"] for k in df[\"key\"].unique()])\n",
    "\n",
    "# Print ANOVA results\n",
    "print(f\"ANOVA p-value: {anova_result.pvalue}\")\n",
    "\n",
    "# Interpretation\n",
    "if anova_result.pvalue < 0.05:\n",
    "    print(\"There is a significant difference in popularity across different keys.\")\n",
    "else:\n",
    "    print(\"No significant difference in popularity across keys.\")\n",
    "\n"
   ],
   "id": "8661f69d847ef64d",
   "outputs": [
    {
     "name": "stdout",
     "output_type": "stream",
     "text": [
      "ANOVA p-value: 0.0\n",
      "There is a significant difference in popularity across different keys.\n"
     ]
    }
   ],
   "execution_count": 17
  }
 ],
 "metadata": {
  "kernelspec": {
   "name": "python3",
   "language": "python",
   "display_name": "Python 3 (ipykernel)"
  }
 },
 "nbformat": 5,
 "nbformat_minor": 9
}
