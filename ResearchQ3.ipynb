{
 "cells": [
  {
   "cell_type": "code",
   "id": "initial_id",
   "metadata": {
    "collapsed": true,
    "ExecuteTime": {
     "end_time": "2025-03-07T03:28:03.726109Z",
     "start_time": "2025-03-07T03:27:57.084241Z"
    }
   },
   "source": [
    "import pandas as pd\n",
    "import numpy as np\n",
    "from sklearn.metrics.pairwise import cosine_similarity\n",
    "\n",
    "# Step 1: Load your dataset\n",
    "df = pd.read_csv(\"spotify_data.csv\")  # Replace with your actual CSV file\n",
    "\n",
    "# Step 2: Select relevant audio feature columns\n",
    "audio_features = ['danceability', 'energy', 'loudness', 'speechiness', 'acousticness',\n",
    "                  'instrumentalness', 'liveness', 'valence', 'tempo', 'key', 'mode']\n",
    "\n",
    "# Step 3: Normalize features (standardization)\n",
    "df[audio_features] = (df[audio_features] - df[audio_features].mean()) / df[audio_features].std()\n"
   ],
   "outputs": [
    {
     "name": "stdout",
     "output_type": "stream",
     "text": [
      "Selected Song:\n",
      "                track_name artist_name  popularity\n",
      "882616  Amor De Mis Amores       Cabas          38\n",
      "\n",
      "Top 10 Similar Songs:\n",
      "                                  track_name  \\\n",
      "188883   Baby Blue (feat. Chance the Rapper)   \n",
      "600250                          Unsere Stadt   \n",
      "982526                           Bring It On   \n",
      "207596                      Chocolate & Coco   \n",
      "1102110                             Mazhayil   \n",
      "802044                       Someday One Day   \n",
      "411522                        Nada Me Va Mal   \n",
      "914074                            Slow Dance   \n",
      "561998                             Sunny day   \n",
      "534934                            That's All   \n",
      "\n",
      "                                 artist_name  popularity  similarity  \n",
      "188883                        Action Bronson          60    0.981664  \n",
      "600250                         Longus Mongus           0    0.981085  \n",
      "982526                         Beres Hammond          13    0.980769  \n",
      "207596   Los Granadians del Espacio Exterior          12    0.978204  \n",
      "1102110                              Sujatha           0    0.977799  \n",
      "802044                      Christina Milian          20    0.976740  \n",
      "411522                        Eslabon Armado          43    0.974861  \n",
      "914074                           John Legend          39    0.974687  \n",
      "561998                           beabadoobee          65    0.974272  \n",
      "534934                       Southern Avenue          28    0.974053  \n"
     ]
    }
   ],
   "execution_count": 2
  },
  {
   "metadata": {
    "ExecuteTime": {
     "end_time": "2025-03-07T03:29:56.665344Z",
     "start_time": "2025-03-07T03:29:55.081701Z"
    }
   },
   "cell_type": "code",
   "source": [
    "\n",
    "# Step 4: Choose a random song (or manually specify one)\n",
    "random_song = df.sample(1, random_state=455)\n",
    "random_song_features = random_song[audio_features].values\n",
    "\n",
    "# Step 5: Compute cosine similarity between the chosen song and all other songs\n",
    "similarities = cosine_similarity(df[audio_features], random_song_features)\n",
    "\n",
    "# Step 6: Add similarity scores to the dataframe\n",
    "df['similarity'] = similarities\n",
    "\n",
    "# Step 7: Sort songs by similarity (excluding the chosen song itself)\n",
    "similar_songs = df.sort_values(by='similarity', ascending=False).iloc[1:11]  # Top 10 similar songs\n",
    "\n",
    "# Step 8: Display selected song details\n",
    "print(\"Selected Song:\")\n",
    "print(random_song[['track_name', 'artist_name', 'popularity']])\n",
    "print(\"\\nTop 10 Similar Songs:\")\n",
    "print(similar_songs[['track_name', 'artist_name', 'popularity', 'similarity']])"
   ],
   "id": "a2924202c3f986d1",
   "outputs": [
    {
     "name": "stdout",
     "output_type": "stream",
     "text": [
      "Selected Song:\n",
      "                       track_name      artist_name  popularity\n",
      "152167  Amarte Es - Salsa Version  Víctor Manuelle          13\n",
      "\n",
      "Top 10 Similar Songs:\n",
      "                                          track_name  \\\n",
      "658045                          Algo Nuevo Traigo Yo   \n",
      "297971                         Dance With Mr. Domino   \n",
      "522056                                  Ouro da Mina   \n",
      "274965                        Nas Mãos de uma Mulher   \n",
      "1131688                      Amanhã Talvez - Ao Vivo   \n",
      "1131654                                Amanhã Talvez   \n",
      "663531   Volver a ser un niño (feat. Jarabe De Palo)   \n",
      "574871                                      Ay Dolor   \n",
      "831207                        Veneno Em Minhas Veias   \n",
      "298763                                 Pablo Escobar   \n",
      "\n",
      "                               artist_name  popularity  similarity  \n",
      "658045                     Conjunto Imagen           0    0.988145  \n",
      "297971                         Fats Domino           3    0.987918  \n",
      "522056                      Diogo Nogueira          36    0.986595  \n",
      "274965             Robério e Seus Teclados           0    0.986202  \n",
      "1131688                     Forró do Muido           0    0.982363  \n",
      "1131654                     Forró do Muido          16    0.981793  \n",
      "663531                        Los Secretos          23    0.981627  \n",
      "574871   Julión Álvarez y su Norteño Banda          51    0.981511  \n",
      "831207              João Pedro e Cristiano           4    0.978982  \n",
      "298763               Alameños de la Sierra          31    0.978526  \n"
     ]
    }
   ],
   "execution_count": 6
  }
 ],
 "metadata": {
  "kernelspec": {
   "display_name": "Python 3",
   "language": "python",
   "name": "python3"
  },
  "language_info": {
   "codemirror_mode": {
    "name": "ipython",
    "version": 2
   },
   "file_extension": ".py",
   "mimetype": "text/x-python",
   "name": "python",
   "nbconvert_exporter": "python",
   "pygments_lexer": "ipython2",
   "version": "2.7.6"
  }
 },
 "nbformat": 4,
 "nbformat_minor": 5
}
